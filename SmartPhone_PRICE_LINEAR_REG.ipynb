{
  "nbformat": 4,
  "nbformat_minor": 0,
  "metadata": {
    "colab": {
      "name": "SmartPhone_PRICE_LINEAR_REG",
      "provenance": [],
      "collapsed_sections": []
    },
    "kernelspec": {
      "name": "python3",
      "display_name": "Python 3"
    },
    "language_info": {
      "name": "python"
    }
  },
  "cells": [
    {
      "cell_type": "code",
      "metadata": {
        "id": "2XagE33uFTiB"
      },
      "source": [
        "from google.colab import files\n",
        "import numpy as np\n",
        "import matplotlib.pyplot as plt\n",
        "import seaborn as sns\n",
        "import io\n",
        "import pandas as pd\n",
        "import sklearn"
      ],
      "execution_count": null,
      "outputs": []
    },
    {
      "cell_type": "code",
      "metadata": {
        "colab": {
          "resources": {
            "http://localhost:8080/nbextensions/google.colab/files.js": {
              "data": "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",
              "ok": true,
              "headers": [
                [
                  "content-type",
                  "application/javascript"
                ]
              ],
              "status": 200,
              "status_text": ""
            }
          },
          "base_uri": "https://localhost:8080/",
          "height": 73
        },
        "id": "yqGeGdQ7GZUo",
        "outputId": "eaedd135-ebe3-468f-f7ed-e05245508122"
      },
      "source": [
        "upd = files.upload()\n",
        "smt_df = pd.read_csv(io.BytesIO(upd['Smartphone_PRED_GIRISH_s1.csv']))"
      ],
      "execution_count": null,
      "outputs": [
        {
          "output_type": "display_data",
          "data": {
            "text/html": [
              "\n",
              "     <input type=\"file\" id=\"files-98e3966c-db5d-4796-b05f-2b861ad82ded\" name=\"files[]\" multiple disabled\n",
              "        style=\"border:none\" />\n",
              "     <output id=\"result-98e3966c-db5d-4796-b05f-2b861ad82ded\">\n",
              "      Upload widget is only available when the cell has been executed in the\n",
              "      current browser session. Please rerun this cell to enable.\n",
              "      </output>\n",
              "      <script src=\"/nbextensions/google.colab/files.js\"></script> "
            ],
            "text/plain": [
              "<IPython.core.display.HTML object>"
            ]
          },
          "metadata": {
            "tags": []
          }
        },
        {
          "output_type": "stream",
          "text": [
            "Saving Smartphone_PRED_GIRISH_s1.csv to Smartphone_PRED_GIRISH_s1.csv\n"
          ],
          "name": "stdout"
        }
      ]
    },
    {
      "cell_type": "code",
      "metadata": {
        "colab": {
          "base_uri": "https://localhost:8080/",
          "height": 362
        },
        "id": "GmyvpAo1Gn8Z",
        "outputId": "152d3489-27bb-472c-a8e3-b1cc1d72a656"
      },
      "source": [
        "smt_df.head(10)"
      ],
      "execution_count": null,
      "outputs": [
        {
          "output_type": "execute_result",
          "data": {
            "text/html": [
              "<div>\n",
              "<style scoped>\n",
              "    .dataframe tbody tr th:only-of-type {\n",
              "        vertical-align: middle;\n",
              "    }\n",
              "\n",
              "    .dataframe tbody tr th {\n",
              "        vertical-align: top;\n",
              "    }\n",
              "\n",
              "    .dataframe thead th {\n",
              "        text-align: right;\n",
              "    }\n",
              "</style>\n",
              "<table border=\"1\" class=\"dataframe\">\n",
              "  <thead>\n",
              "    <tr style=\"text-align: right;\">\n",
              "      <th></th>\n",
              "      <th>BATTERY</th>\n",
              "      <th>RAM</th>\n",
              "      <th>PPI</th>\n",
              "      <th>INT.MEM</th>\n",
              "      <th>EXT.MEM</th>\n",
              "      <th>F.CAM</th>\n",
              "      <th>R.CAM</th>\n",
              "      <th>DISP</th>\n",
              "      <th>PRICE</th>\n",
              "    </tr>\n",
              "  </thead>\n",
              "  <tbody>\n",
              "    <tr>\n",
              "      <th>0</th>\n",
              "      <td>2200</td>\n",
              "      <td>1</td>\n",
              "      <td>294</td>\n",
              "      <td>8</td>\n",
              "      <td>32</td>\n",
              "      <td>5</td>\n",
              "      <td>8</td>\n",
              "      <td>12.70</td>\n",
              "      <td>4800</td>\n",
              "    </tr>\n",
              "    <tr>\n",
              "      <th>1</th>\n",
              "      <td>3000</td>\n",
              "      <td>2</td>\n",
              "      <td>197</td>\n",
              "      <td>16</td>\n",
              "      <td>256</td>\n",
              "      <td>5</td>\n",
              "      <td>8</td>\n",
              "      <td>13.84</td>\n",
              "      <td>5000</td>\n",
              "    </tr>\n",
              "    <tr>\n",
              "      <th>2</th>\n",
              "      <td>2000</td>\n",
              "      <td>1</td>\n",
              "      <td>215</td>\n",
              "      <td>8</td>\n",
              "      <td>32</td>\n",
              "      <td>5</td>\n",
              "      <td>8</td>\n",
              "      <td>12.70</td>\n",
              "      <td>4700</td>\n",
              "    </tr>\n",
              "    <tr>\n",
              "      <th>3</th>\n",
              "      <td>2000</td>\n",
              "      <td>2</td>\n",
              "      <td>294</td>\n",
              "      <td>16</td>\n",
              "      <td>32</td>\n",
              "      <td>2</td>\n",
              "      <td>8</td>\n",
              "      <td>12.90</td>\n",
              "      <td>5100</td>\n",
              "    </tr>\n",
              "    <tr>\n",
              "      <th>4</th>\n",
              "      <td>3000</td>\n",
              "      <td>1</td>\n",
              "      <td>311</td>\n",
              "      <td>16</td>\n",
              "      <td>512</td>\n",
              "      <td>5</td>\n",
              "      <td>8</td>\n",
              "      <td>13.46</td>\n",
              "      <td>5600</td>\n",
              "    </tr>\n",
              "    <tr>\n",
              "      <th>5</th>\n",
              "      <td>3100</td>\n",
              "      <td>2</td>\n",
              "      <td>196</td>\n",
              "      <td>16</td>\n",
              "      <td>256</td>\n",
              "      <td>5</td>\n",
              "      <td>5</td>\n",
              "      <td>12.80</td>\n",
              "      <td>5200</td>\n",
              "    </tr>\n",
              "    <tr>\n",
              "      <th>6</th>\n",
              "      <td>4100</td>\n",
              "      <td>1</td>\n",
              "      <td>294</td>\n",
              "      <td>8</td>\n",
              "      <td>128</td>\n",
              "      <td>5</td>\n",
              "      <td>8</td>\n",
              "      <td>12.70</td>\n",
              "      <td>7000</td>\n",
              "    </tr>\n",
              "    <tr>\n",
              "      <th>7</th>\n",
              "      <td>3000</td>\n",
              "      <td>2</td>\n",
              "      <td>282</td>\n",
              "      <td>16</td>\n",
              "      <td>128</td>\n",
              "      <td>8</td>\n",
              "      <td>13</td>\n",
              "      <td>13.21</td>\n",
              "      <td>7100</td>\n",
              "    </tr>\n",
              "    <tr>\n",
              "      <th>8</th>\n",
              "      <td>2900</td>\n",
              "      <td>3</td>\n",
              "      <td>282</td>\n",
              "      <td>32</td>\n",
              "      <td>128</td>\n",
              "      <td>16</td>\n",
              "      <td>13</td>\n",
              "      <td>14.48</td>\n",
              "      <td>7300</td>\n",
              "    </tr>\n",
              "    <tr>\n",
              "      <th>9</th>\n",
              "      <td>6000</td>\n",
              "      <td>4</td>\n",
              "      <td>294</td>\n",
              "      <td>64</td>\n",
              "      <td>1000</td>\n",
              "      <td>8</td>\n",
              "      <td>57</td>\n",
              "      <td>16.55</td>\n",
              "      <td>9000</td>\n",
              "    </tr>\n",
              "  </tbody>\n",
              "</table>\n",
              "</div>"
            ],
            "text/plain": [
              "   BATTERY  RAM  PPI  INT.MEM  EXT.MEM  F.CAM  R.CAM   DISP  PRICE\n",
              "0     2200    1  294        8       32      5      8  12.70   4800\n",
              "1     3000    2  197       16      256      5      8  13.84   5000\n",
              "2     2000    1  215        8       32      5      8  12.70   4700\n",
              "3     2000    2  294       16       32      2      8  12.90   5100\n",
              "4     3000    1  311       16      512      5      8  13.46   5600\n",
              "5     3100    2  196       16      256      5      5  12.80   5200\n",
              "6     4100    1  294        8      128      5      8  12.70   7000\n",
              "7     3000    2  282       16      128      8     13  13.21   7100\n",
              "8     2900    3  282       32      128     16     13  14.48   7300\n",
              "9     6000    4  294       64     1000      8     57  16.55   9000"
            ]
          },
          "metadata": {
            "tags": []
          },
          "execution_count": 64
        }
      ]
    },
    {
      "cell_type": "code",
      "metadata": {
        "colab": {
          "base_uri": "https://localhost:8080/"
        },
        "id": "XE7KWDgxG0LQ",
        "outputId": "de0eafb4-dc18-442d-92cd-b20e1452fd4b"
      },
      "source": [
        "smt_df.columns"
      ],
      "execution_count": null,
      "outputs": [
        {
          "output_type": "execute_result",
          "data": {
            "text/plain": [
              "Index(['BATTERY', 'RAM', 'PPI', 'INT.MEM', 'EXT.MEM', 'F.CAM', 'R.CAM', 'DISP',\n",
              "       'PRICE'],\n",
              "      dtype='object')"
            ]
          },
          "metadata": {
            "tags": []
          },
          "execution_count": 65
        }
      ]
    },
    {
      "cell_type": "code",
      "metadata": {
        "colab": {
          "base_uri": "https://localhost:8080/",
          "height": 331
        },
        "id": "7z7iWCxlynGK",
        "outputId": "0319140e-08f2-4b8d-b79f-65bf7bef5839"
      },
      "source": [
        "smt_df.corr()"
      ],
      "execution_count": null,
      "outputs": [
        {
          "output_type": "execute_result",
          "data": {
            "text/html": [
              "<div>\n",
              "<style scoped>\n",
              "    .dataframe tbody tr th:only-of-type {\n",
              "        vertical-align: middle;\n",
              "    }\n",
              "\n",
              "    .dataframe tbody tr th {\n",
              "        vertical-align: top;\n",
              "    }\n",
              "\n",
              "    .dataframe thead th {\n",
              "        text-align: right;\n",
              "    }\n",
              "</style>\n",
              "<table border=\"1\" class=\"dataframe\">\n",
              "  <thead>\n",
              "    <tr style=\"text-align: right;\">\n",
              "      <th></th>\n",
              "      <th>BATTERY</th>\n",
              "      <th>RAM</th>\n",
              "      <th>PPI</th>\n",
              "      <th>INT.MEM</th>\n",
              "      <th>EXT.MEM</th>\n",
              "      <th>F.CAM</th>\n",
              "      <th>R.CAM</th>\n",
              "      <th>DISP</th>\n",
              "      <th>PRICE</th>\n",
              "    </tr>\n",
              "  </thead>\n",
              "  <tbody>\n",
              "    <tr>\n",
              "      <th>BATTERY</th>\n",
              "      <td>1.000000</td>\n",
              "      <td>0.456919</td>\n",
              "      <td>0.354915</td>\n",
              "      <td>0.274180</td>\n",
              "      <td>0.396550</td>\n",
              "      <td>0.357543</td>\n",
              "      <td>0.558666</td>\n",
              "      <td>0.739466</td>\n",
              "      <td>0.316202</td>\n",
              "    </tr>\n",
              "    <tr>\n",
              "      <th>RAM</th>\n",
              "      <td>0.456919</td>\n",
              "      <td>1.000000</td>\n",
              "      <td>0.617047</td>\n",
              "      <td>0.717316</td>\n",
              "      <td>0.276987</td>\n",
              "      <td>0.460144</td>\n",
              "      <td>0.725915</td>\n",
              "      <td>0.714483</td>\n",
              "      <td>0.795699</td>\n",
              "    </tr>\n",
              "    <tr>\n",
              "      <th>PPI</th>\n",
              "      <td>0.354915</td>\n",
              "      <td>0.617047</td>\n",
              "      <td>1.000000</td>\n",
              "      <td>0.493377</td>\n",
              "      <td>0.185312</td>\n",
              "      <td>0.375180</td>\n",
              "      <td>0.624677</td>\n",
              "      <td>0.588821</td>\n",
              "      <td>0.609666</td>\n",
              "    </tr>\n",
              "    <tr>\n",
              "      <th>INT.MEM</th>\n",
              "      <td>0.274180</td>\n",
              "      <td>0.717316</td>\n",
              "      <td>0.493377</td>\n",
              "      <td>1.000000</td>\n",
              "      <td>0.252086</td>\n",
              "      <td>0.268565</td>\n",
              "      <td>0.413840</td>\n",
              "      <td>0.491585</td>\n",
              "      <td>0.755450</td>\n",
              "    </tr>\n",
              "    <tr>\n",
              "      <th>EXT.MEM</th>\n",
              "      <td>0.396550</td>\n",
              "      <td>0.276987</td>\n",
              "      <td>0.185312</td>\n",
              "      <td>0.252086</td>\n",
              "      <td>1.000000</td>\n",
              "      <td>0.390918</td>\n",
              "      <td>0.288589</td>\n",
              "      <td>0.434249</td>\n",
              "      <td>0.483840</td>\n",
              "    </tr>\n",
              "    <tr>\n",
              "      <th>F.CAM</th>\n",
              "      <td>0.357543</td>\n",
              "      <td>0.460144</td>\n",
              "      <td>0.375180</td>\n",
              "      <td>0.268565</td>\n",
              "      <td>0.390918</td>\n",
              "      <td>1.000000</td>\n",
              "      <td>0.517738</td>\n",
              "      <td>0.454763</td>\n",
              "      <td>0.413525</td>\n",
              "    </tr>\n",
              "    <tr>\n",
              "      <th>R.CAM</th>\n",
              "      <td>0.558666</td>\n",
              "      <td>0.725915</td>\n",
              "      <td>0.624677</td>\n",
              "      <td>0.413840</td>\n",
              "      <td>0.288589</td>\n",
              "      <td>0.517738</td>\n",
              "      <td>1.000000</td>\n",
              "      <td>0.650463</td>\n",
              "      <td>0.589386</td>\n",
              "    </tr>\n",
              "    <tr>\n",
              "      <th>DISP</th>\n",
              "      <td>0.739466</td>\n",
              "      <td>0.714483</td>\n",
              "      <td>0.588821</td>\n",
              "      <td>0.491585</td>\n",
              "      <td>0.434249</td>\n",
              "      <td>0.454763</td>\n",
              "      <td>0.650463</td>\n",
              "      <td>1.000000</td>\n",
              "      <td>0.654842</td>\n",
              "    </tr>\n",
              "    <tr>\n",
              "      <th>PRICE</th>\n",
              "      <td>0.316202</td>\n",
              "      <td>0.795699</td>\n",
              "      <td>0.609666</td>\n",
              "      <td>0.755450</td>\n",
              "      <td>0.483840</td>\n",
              "      <td>0.413525</td>\n",
              "      <td>0.589386</td>\n",
              "      <td>0.654842</td>\n",
              "      <td>1.000000</td>\n",
              "    </tr>\n",
              "  </tbody>\n",
              "</table>\n",
              "</div>"
            ],
            "text/plain": [
              "          BATTERY       RAM       PPI  ...     R.CAM      DISP     PRICE\n",
              "BATTERY  1.000000  0.456919  0.354915  ...  0.558666  0.739466  0.316202\n",
              "RAM      0.456919  1.000000  0.617047  ...  0.725915  0.714483  0.795699\n",
              "PPI      0.354915  0.617047  1.000000  ...  0.624677  0.588821  0.609666\n",
              "INT.MEM  0.274180  0.717316  0.493377  ...  0.413840  0.491585  0.755450\n",
              "EXT.MEM  0.396550  0.276987  0.185312  ...  0.288589  0.434249  0.483840\n",
              "F.CAM    0.357543  0.460144  0.375180  ...  0.517738  0.454763  0.413525\n",
              "R.CAM    0.558666  0.725915  0.624677  ...  1.000000  0.650463  0.589386\n",
              "DISP     0.739466  0.714483  0.588821  ...  0.650463  1.000000  0.654842\n",
              "PRICE    0.316202  0.795699  0.609666  ...  0.589386  0.654842  1.000000\n",
              "\n",
              "[9 rows x 9 columns]"
            ]
          },
          "metadata": {
            "tags": []
          },
          "execution_count": 83
        }
      ]
    },
    {
      "cell_type": "code",
      "metadata": {
        "id": "ArvM2TBh8Naq"
      },
      "source": [
        "plt.style.use('ggplot')"
      ],
      "execution_count": null,
      "outputs": []
    },
    {
      "cell_type": "code",
      "metadata": {
        "colab": {
          "base_uri": "https://localhost:8080/",
          "height": 300
        },
        "id": "MONdwV6yyw9D",
        "outputId": "76471d4e-3ce1-4abc-f396-f0283b7f4884"
      },
      "source": [
        "sns.scatterplot(data=smt_df , x= 'PPI' ,y='PRICE' , hue = 'DISP' , palette='viridis')"
      ],
      "execution_count": null,
      "outputs": [
        {
          "output_type": "execute_result",
          "data": {
            "text/plain": [
              "<matplotlib.axes._subplots.AxesSubplot at 0x7f2ddc638f90>"
            ]
          },
          "metadata": {
            "tags": []
          },
          "execution_count": 114
        },
        {
          "output_type": "display_data",
          "data": {
            "image/png": "[encoded data removed]",
            "text/plain": [
              "<Figure size 432x288 with 1 Axes>"
            ]
          },
          "metadata": {
            "tags": []
          }
        }
      ]
    },
    {
      "cell_type": "code",
      "metadata": {
        "colab": {
          "base_uri": "https://localhost:8080/",
          "height": 403
        },
        "id": "MqvSHvUH1fZB",
        "outputId": "972c0710-27c8-4587-8166-200a50baeb77"
      },
      "source": [
        "plt.style.use('seaborn-pastel')\n",
        "sns.relplot(data = smt_df , x= 'INT.MEM' ,y='EXT.MEM' , hue = 'RAM' , palette='viridis')"
      ],
      "execution_count": null,
      "outputs": [
        {
          "output_type": "execute_result",
          "data": {
            "text/plain": [
              "<seaborn.axisgrid.FacetGrid at 0x7f2dcaa51a50>"
            ]
          },
          "metadata": {
            "tags": []
          },
          "execution_count": 135
        },
        {
          "output_type": "display_data",
          "data": {
            "image/png": "[encoded data removed]",
            "text/plain": [
              "<Figure size 407.25x360 with 1 Axes>"
            ]
          },
          "metadata": {
            "tags": []
          }
        }
      ]
    },
    {
      "cell_type": "code",
      "metadata": {
        "colab": {
          "base_uri": "https://localhost:8080/",
          "height": 520
        },
        "id": "HyqoEk2P56K-",
        "outputId": "660ba04a-66ce-437b-c49c-f12e7b9421ee"
      },
      "source": [
        "plt.figure(figsize=(12,8))\n",
        "plt.subplot(2,2,1)\n",
        "sns.stripplot(x = 'RAM', y = 'PPI', data = smt_df, jitter = True)\n",
        "plt.subplot(2,2,2)\n",
        "sns.stripplot(x = 'RAM', y = 'EXT.MEM', data = smt_df, jitter = True)\n",
        "plt.subplot(2,2,3)\n",
        "sns.stripplot(x = 'RAM', y = 'INT.MEM', data = smt_df, jitter = True)\n",
        "plt.subplot(2,2,4)\n",
        "sns.stripplot(x = 'RAM', y = 'PRICE', data = smt_df, jitter = True)"
      ],
      "execution_count": null,
      "outputs": [
        {
          "output_type": "execute_result",
          "data": {
            "text/plain": [
              "<matplotlib.axes._subplots.AxesSubplot at 0x7f2dcaf91c50>"
            ]
          },
          "metadata": {
            "tags": []
          },
          "execution_count": 125
        },
        {
          "output_type": "display_data",
          "data": {
            "image/png": "[encoded data removed]",
            "text/plain": [
              "<Figure size 864x576 with 4 Axes>"
            ]
          },
          "metadata": {
            "tags": []
          }
        }
      ]
    },
    {
      "cell_type": "code",
      "metadata": {
        "id": "KnCp2IrNG7FX"
      },
      "source": [
        "X = smt_df[['BATTERY', 'RAM', 'PPI', 'INT.MEM', 'EXT.MEM', 'F.CAM', 'R.CAM', 'DISP']]\n",
        "Y = smt_df['PRICE']"
      ],
      "execution_count": null,
      "outputs": []
    },
    {
      "cell_type": "code",
      "metadata": {
        "colab": {
          "base_uri": "https://localhost:8080/"
        },
        "id": "uasEl7LM8dQ5",
        "outputId": "ab723d6a-999f-4446-9c3d-9b8e35a6c0e8"
      },
      "source": [
        "plt.style.available"
      ],
      "execution_count": null,
      "outputs": [
        {
          "output_type": "execute_result",
          "data": {
            "text/plain": [
              "['Solarize_Light2',\n",
              " '_classic_test_patch',\n",
              " 'bmh',\n",
              " 'classic',\n",
              " 'dark_background',\n",
              " 'fast',\n",
              " 'fivethirtyeight',\n",
              " 'ggplot',\n",
              " 'grayscale',\n",
              " 'seaborn',\n",
              " 'seaborn-bright',\n",
              " 'seaborn-colorblind',\n",
              " 'seaborn-dark',\n",
              " 'seaborn-dark-palette',\n",
              " 'seaborn-darkgrid',\n",
              " 'seaborn-deep',\n",
              " 'seaborn-muted',\n",
              " 'seaborn-notebook',\n",
              " 'seaborn-paper',\n",
              " 'seaborn-pastel',\n",
              " 'seaborn-poster',\n",
              " 'seaborn-talk',\n",
              " 'seaborn-ticks',\n",
              " 'seaborn-white',\n",
              " 'seaborn-whitegrid',\n",
              " 'tableau-colorblind10']"
            ]
          },
          "metadata": {
            "tags": []
          },
          "execution_count": 130
        }
      ]
    },
    {
      "cell_type": "code",
      "metadata": {
        "id": "Jxj-YuEGHME3"
      },
      "source": [
        "from sklearn.model_selection import train_test_split"
      ],
      "execution_count": null,
      "outputs": []
    },
    {
      "cell_type": "code",
      "metadata": {
        "id": "4qX4Hx_UHpDG"
      },
      "source": [
        "X_train , X_test , Y_train , Y_test = train_test_split(X,Y,test_size=0.32 , random_state = 20)"
      ],
      "execution_count": null,
      "outputs": []
    },
    {
      "cell_type": "code",
      "metadata": {
        "colab": {
          "base_uri": "https://localhost:8080/"
        },
        "id": "01ditDikI01H",
        "outputId": "ad297017-bf65-497c-be45-84a54c235968"
      },
      "source": [
        "from sklearn.linear_model import LinearRegression\n",
        "smt_lr = LinearRegression()\n",
        "smt_lr.fit(X_train,Y_train)\n",
        "print(smt_lr.intercept_)"
      ],
      "execution_count": null,
      "outputs": [
        {
          "output_type": "stream",
          "text": [
            "-79576.54943758374\n"
          ],
          "name": "stdout"
        }
      ]
    },
    {
      "cell_type": "code",
      "metadata": {
        "colab": {
          "base_uri": "https://localhost:8080/"
        },
        "id": "oZbQ5mm-JXJl",
        "outputId": "fd9ceecd-07dd-4ac5-9593-ad13fea15178"
      },
      "source": [
        "X_train.columns"
      ],
      "execution_count": null,
      "outputs": [
        {
          "output_type": "execute_result",
          "data": {
            "text/plain": [
              "Index(['BATTERY', 'RAM', 'PPI', 'INT.MEM', 'EXT.MEM', 'F.CAM', 'R.CAM',\n",
              "       'DISP'],\n",
              "      dtype='object')"
            ]
          },
          "metadata": {
            "tags": []
          },
          "execution_count": 70
        }
      ]
    },
    {
      "cell_type": "code",
      "metadata": {
        "colab": {
          "base_uri": "https://localhost:8080/"
        },
        "id": "TQJSISRBJmXx",
        "outputId": "d2c9565b-394f-41d2-a38f-65d8b3779aac"
      },
      "source": [
        "smt_lr.coef_"
      ],
      "execution_count": null,
      "outputs": [
        {
          "output_type": "execute_result",
          "data": {
            "text/plain": [
              "array([  -9.03602637, 2799.05795414,   35.11112666,   72.92332838,\n",
              "         10.72986101, -135.14507503,   20.2314417 , 6633.18850537])"
            ]
          },
          "metadata": {
            "tags": []
          },
          "execution_count": 71
        }
      ]
    },
    {
      "cell_type": "code",
      "metadata": {
        "colab": {
          "base_uri": "https://localhost:8080/",
          "height": 299
        },
        "id": "7shAL5kWJubj",
        "outputId": "7ff3ce71-d95a-4cc4-d983-0e9a2065268e"
      },
      "source": [
        "cd = pd.DataFrame(smt_lr.coef_ ,X_train.columns , columns = ['coef'])\n",
        "cd"
      ],
      "execution_count": null,
      "outputs": [
        {
          "output_type": "execute_result",
          "data": {
            "text/html": [
              "<div>\n",
              "<style scoped>\n",
              "    .dataframe tbody tr th:only-of-type {\n",
              "        vertical-align: middle;\n",
              "    }\n",
              "\n",
              "    .dataframe tbody tr th {\n",
              "        vertical-align: top;\n",
              "    }\n",
              "\n",
              "    .dataframe thead th {\n",
              "        text-align: right;\n",
              "    }\n",
              "</style>\n",
              "<table border=\"1\" class=\"dataframe\">\n",
              "  <thead>\n",
              "    <tr style=\"text-align: right;\">\n",
              "      <th></th>\n",
              "      <th>coef</th>\n",
              "    </tr>\n",
              "  </thead>\n",
              "  <tbody>\n",
              "    <tr>\n",
              "      <th>BATTERY</th>\n",
              "      <td>-9.036026</td>\n",
              "    </tr>\n",
              "    <tr>\n",
              "      <th>RAM</th>\n",
              "      <td>2799.057954</td>\n",
              "    </tr>\n",
              "    <tr>\n",
              "      <th>PPI</th>\n",
              "      <td>35.111127</td>\n",
              "    </tr>\n",
              "    <tr>\n",
              "      <th>INT.MEM</th>\n",
              "      <td>72.923328</td>\n",
              "    </tr>\n",
              "    <tr>\n",
              "      <th>EXT.MEM</th>\n",
              "      <td>10.729861</td>\n",
              "    </tr>\n",
              "    <tr>\n",
              "      <th>F.CAM</th>\n",
              "      <td>-135.145075</td>\n",
              "    </tr>\n",
              "    <tr>\n",
              "      <th>R.CAM</th>\n",
              "      <td>20.231442</td>\n",
              "    </tr>\n",
              "    <tr>\n",
              "      <th>DISP</th>\n",
              "      <td>6633.188505</td>\n",
              "    </tr>\n",
              "  </tbody>\n",
              "</table>\n",
              "</div>"
            ],
            "text/plain": [
              "                coef\n",
              "BATTERY    -9.036026\n",
              "RAM      2799.057954\n",
              "PPI        35.111127\n",
              "INT.MEM    72.923328\n",
              "EXT.MEM    10.729861\n",
              "F.CAM    -135.145075\n",
              "R.CAM      20.231442\n",
              "DISP     6633.188505"
            ]
          },
          "metadata": {
            "tags": []
          },
          "execution_count": 72
        }
      ]
    },
    {
      "cell_type": "code",
      "metadata": {
        "id": "cIvukErGKIRo"
      },
      "source": [
        "pred = smt_lr.predict(X_test)"
      ],
      "execution_count": null,
      "outputs": []
    },
    {
      "cell_type": "code",
      "metadata": {
        "colab": {
          "base_uri": "https://localhost:8080/",
          "height": 280
        },
        "id": "fvNN-3cNLf4V",
        "outputId": "1971699e-0883-4ec5-8870-768f550bccd4"
      },
      "source": [
        "plt.style.use('tableau-colorblind10')\n",
        "plt.scatter(pred,Y_test)"
      ],
      "execution_count": null,
      "outputs": [
        {
          "output_type": "execute_result",
          "data": {
            "text/plain": [
              "<matplotlib.collections.PathCollection at 0x7f2dca910890>"
            ]
          },
          "metadata": {
            "tags": []
          },
          "execution_count": 138
        },
        {
          "output_type": "display_data",
          "data": {
            "image/png": "[encoded data removed]",
            "text/plain": [
              "<Figure size 432x288 with 1 Axes>"
            ]
          },
          "metadata": {
            "tags": []
          }
        }
      ]
    },
    {
      "cell_type": "code",
      "metadata": {
        "colab": {
          "base_uri": "https://localhost:8080/",
          "height": 364
        },
        "id": "kbkUDxuVLlX_",
        "outputId": "b5079849-c4f8-46e2-f6d2-33c6addd4b89"
      },
      "source": [
        "plt.style.use('seaborn-pastel')\n",
        "sns.distplot(Y_test-pred)"
      ],
      "execution_count": null,
      "outputs": [
        {
          "output_type": "stream",
          "text": [
            "/usr/local/lib/python3.7/dist-packages/seaborn/distributions.py:2557: FutureWarning: `distplot` is a deprecated function and will be removed in a future version. Please adapt your code to use either `displot` (a figure-level function with similar flexibility) or `histplot` (an axes-level function for histograms).\n",
            "  warnings.warn(msg, FutureWarning)\n"
          ],
          "name": "stderr"
        },
        {
          "output_type": "execute_result",
          "data": {
            "text/plain": [
              "<matplotlib.axes._subplots.AxesSubplot at 0x7f2dcaacdc50>"
            ]
          },
          "metadata": {
            "tags": []
          },
          "execution_count": 133
        },
        {
          "output_type": "display_data",
          "data": {
            "image/png": "[encoded data removed]",
            "text/plain": [
              "<Figure size 432x288 with 1 Axes>"
            ]
          },
          "metadata": {
            "tags": []
          }
        }
      ]
    },
    {
      "cell_type": "code",
      "metadata": {
        "colab": {
          "base_uri": "https://localhost:8080/"
        },
        "id": "XQ4VrmoZMQoD",
        "outputId": "b058fde0-ff02-4f0c-a91c-0ec2f2b38938"
      },
      "source": [
        "from sklearn import metrics\n",
        "metrics.mean_absolute_error(Y_test,pred)"
      ],
      "execution_count": null,
      "outputs": [
        {
          "output_type": "execute_result",
          "data": {
            "text/plain": [
              "8841.160025799834"
            ]
          },
          "metadata": {
            "tags": []
          },
          "execution_count": 77
        }
      ]
    },
    {
      "cell_type": "code",
      "metadata": {
        "colab": {
          "base_uri": "https://localhost:8080/"
        },
        "id": "wRu--h3PMcl0",
        "outputId": "06bb36d5-cb69-4ea8-ff1f-ab0864843f1f"
      },
      "source": [
        "np.sqrt(metrics.mean_squared_error(Y_test,pred))"
      ],
      "execution_count": null,
      "outputs": [
        {
          "output_type": "execute_result",
          "data": {
            "text/plain": [
              "11480.0789126426"
            ]
          },
          "metadata": {
            "tags": []
          },
          "execution_count": 78
        }
      ]
    },
    {
      "cell_type": "code",
      "metadata": {
        "id": "JoocIIlfNFEg"
      },
      "source": [
        "test_vl = [4500,12,396,64,2000,32,64,17.21] # Some random specification\n",
        "ar = np.array(test_vl).reshape(-1,8)"
      ],
      "execution_count": null,
      "outputs": []
    },
    {
      "cell_type": "code",
      "metadata": {
        "colab": {
          "base_uri": "https://localhost:8080/"
        },
        "id": "ehmKOfLOMlU8",
        "outputId": "d2e37517-ae00-4df3-a705-8e5301e785d4"
      },
      "source": [
        "price = smt_lr.predict(ar)\n",
        "print(\"Estimated Price for given Specs : Rs.\" , int(price))"
      ],
      "execution_count": null,
      "outputs": [
        {
          "output_type": "stream",
          "text": [
            "Estimated Price for given Specs : Rs. 64508\n"
          ],
          "name": "stdout"
        }
      ]
    }
  ]
}